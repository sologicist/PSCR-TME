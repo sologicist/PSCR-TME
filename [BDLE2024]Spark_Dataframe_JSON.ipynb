{
  "cells": [
    {
      "cell_type": "markdown",
      "metadata": {
        "id": "uoEBE0CnprxJ"
      },
      "source": [
        "* Master DAC - BDLE\n",
        "* Author: Mohamed-Amine Baazizi\n",
        "* Affiliation: LIP6 - Faculté des Sciences - Sorbonne Université\n",
        "* Email: mohamed-amine.baazizi@lip6.fr\n",
        "* October 2024\n"
      ]
    },
    {
      "cell_type": "markdown",
      "metadata": {
        "id": "ElCGcuduprxN"
      },
      "source": [
        "# Querying nested data"
      ]
    },
    {
      "cell_type": "markdown",
      "metadata": {
        "id": "4gAH4pUZprxN"
      },
      "source": [
        "This lab session complements the previous session with several concepts:\n",
        "* manipulating irregular, nested data represented in JSON format\n",
        "* using windowing functions, multi-dimensional aggregations, and pivot tables"
      ]
    },
    {
      "cell_type": "markdown",
      "metadata": {
        "id": "6gUSNVVGMzdI"
      },
      "source": [
        "## Pre-requisite"
      ]
    },
    {
      "cell_type": "code",
      "execution_count": null,
      "metadata": {
        "colab": {
          "base_uri": "https://localhost:8080/"
        },
        "id": "1Fi3OVnOMy4S",
        "outputId": "67ffe5ea-8ac2-4a4b-eeec-d16ef6d9030d"
      },
      "outputs": [
        {
          "output_type": "stream",
          "name": "stdout",
          "text": [
            "\u001b[2K     \u001b[90m━━━━━━━━━━━━━━━━━━━━━━━━━━━━━━━━━━━━━━━━\u001b[0m \u001b[32m317.3/317.3 MB\u001b[0m \u001b[31m1.5 MB/s\u001b[0m eta \u001b[36m0:00:00\u001b[0m\n",
            "\u001b[?25h  Preparing metadata (setup.py) ... \u001b[?25l\u001b[?25hdone\n",
            "  Building wheel for pyspark (setup.py) ... \u001b[?25l\u001b[?25hdone\n"
          ]
        }
      ],
      "source": [
        "!pip install -q pyspark"
      ]
    },
    {
      "cell_type": "code",
      "execution_count": null,
      "metadata": {
        "id": "UZhOVOkdNAac"
      },
      "outputs": [],
      "source": [
        "from pyspark import SparkConf\n",
        "from pyspark.context import SparkContext\n",
        "from pyspark.sql import SparkSession\n",
        "\n",
        "local = \"local[*]\"\n",
        "appName = \"Spark-Dataframe-JSON\"\n",
        "localConfig = SparkConf().setAppName(appName).setMaster(local).\\\n",
        "  set(\"spark.executor.memory\", \"6G\").\\\n",
        "  set(\"spark.driver.memory\",\"6G\").\\\n",
        "  set(\"spark.sql.catalogImplementation\",\"in-memory\")\n",
        "\n",
        "spark = SparkSession.builder.config(conf = localConfig).getOrCreate()\n",
        "sc = spark.sparkContext\n",
        "sc.setLogLevel(\"ERROR\")"
      ]
    },
    {
      "cell_type": "markdown",
      "metadata": {
        "id": "C2S85CxrlGjY"
      },
      "source": [
        "### Data loading"
      ]
    },
    {
      "cell_type": "code",
      "execution_count": null,
      "metadata": {
        "id": "xicJsDIllHN4"
      },
      "outputs": [],
      "source": [
        "! mkdir -p /tmp/spark-dataframe/"
      ]
    },
    {
      "cell_type": "code",
      "execution_count": null,
      "metadata": {
        "colab": {
          "base_uri": "https://localhost:8080/"
        },
        "id": "ILvtIUqdlHzM",
        "outputId": "eb581318-ad85-4813-8162-c1fb9189b025"
      },
      "outputs": [
        {
          "output_type": "stream",
          "name": "stdout",
          "text": [
            "--2024-10-03 15:45:56--  https://nuage.lip6.fr/s/3CFYf9qFNitKKER/download/vk_001.json.zip\n",
            "Resolving nuage.lip6.fr (nuage.lip6.fr)... 132.227.201.11\n",
            "Connecting to nuage.lip6.fr (nuage.lip6.fr)|132.227.201.11|:443... connected.\n",
            "HTTP request sent, awaiting response... 200 OK\n",
            "Length: 15376718 (15M) [application/zip]\n",
            "Saving to: ‘/tmp/spark-dataframe/vk_001.json.zip’\n",
            "\n",
            "/tmp/spark-datafram 100%[===================>]  14.66M  8.32MB/s    in 1.8s    \n",
            "\n",
            "2024-10-03 15:46:00 (8.32 MB/s) - ‘/tmp/spark-dataframe/vk_001.json.zip’ saved [15376718/15376718]\n",
            "\n"
          ]
        }
      ],
      "source": [
        "! wget https://nuage.lip6.fr/s/3CFYf9qFNitKKER/download/vk_001.json.zip -O /tmp/spark-dataframe/vk_001.json.zip"
      ]
    },
    {
      "cell_type": "code",
      "execution_count": null,
      "metadata": {
        "colab": {
          "base_uri": "https://localhost:8080/"
        },
        "id": "Qfd-ZtA7lHtA",
        "outputId": "c1b4cf28-82df-41a6-d89e-6b2dd1507da6"
      },
      "outputs": [
        {
          "output_type": "stream",
          "name": "stdout",
          "text": [
            "Archive:  /tmp/spark-dataframe/vk_001.json.zip\n",
            "  inflating: /tmp/spark-dataframe/vk_001.json  \n"
          ]
        }
      ],
      "source": [
        "! unzip /tmp/spark-dataframe/vk_001.json.zip -d /tmp/spark-dataframe/"
      ]
    },
    {
      "cell_type": "code",
      "execution_count": null,
      "metadata": {
        "id": "sZWtNFcblNn6"
      },
      "outputs": [],
      "source": [
        "path = '/tmp/spark-dataframe/'"
      ]
    },
    {
      "cell_type": "markdown",
      "metadata": {
        "id": "wy32zRSTprxY"
      },
      "source": [
        "## Dataset loading\n",
        "The dataset used in this lab session describes posts exchanged in a Russian social network, called VK, during the 2018 Russian elections.\n",
        "\n",
        "\n",
        "We will use this dataset to perform some analytics on the type of posts, the tags used in these post and the relationships between authors of the posts."
      ]
    },
    {
      "cell_type": "code",
      "execution_count": null,
      "metadata": {
        "colab": {
          "base_uri": "https://localhost:8080/"
        },
        "id": "YidaWoNpprxY",
        "outputId": "fa334ed4-4e45-4434-a9fd-2f2cd67d1553"
      },
      "outputs": [
        {
          "output_type": "execute_result",
          "data": {
            "text/plain": [
              "30683"
            ]
          },
          "metadata": {},
          "execution_count": 14
        }
      ],
      "source": [
        "data = spark.read.format(\"json\").load(path+'/vk_001.json').distinct()\n",
        "data.count()"
      ]
    },
    {
      "cell_type": "code",
      "execution_count": null,
      "metadata": {
        "colab": {
          "base_uri": "https://localhost:8080/"
        },
        "id": "R9_4b_OFprxZ",
        "outputId": "ba922005-9c6d-4056-d854-4630b4442eca"
      },
      "outputs": [
        {
          "output_type": "stream",
          "name": "stdout",
          "text": [
            "root\n",
            " |-- _id: struct (nullable = true)\n",
            " |    |-- $oid: string (nullable = true)\n",
            " |-- code: long (nullable = true)\n",
            " |-- event: struct (nullable = true)\n",
            " |    |-- action: string (nullable = true)\n",
            " |    |-- attachments: array (nullable = true)\n",
            " |    |    |-- element: struct (containsNull = true)\n",
            " |    |    |    |-- album: struct (nullable = true)\n",
            " |    |    |    |    |-- created: long (nullable = true)\n",
            " |    |    |    |    |-- description: string (nullable = true)\n",
            " |    |    |    |    |-- id: string (nullable = true)\n",
            " |    |    |    |    |-- owner_id: long (nullable = true)\n",
            " |    |    |    |    |-- size: long (nullable = true)\n",
            " |    |    |    |    |-- thumb: struct (nullable = true)\n",
            " |    |    |    |    |    |-- access_key: string (nullable = true)\n",
            " |    |    |    |    |    |-- album_id: long (nullable = true)\n",
            " |    |    |    |    |    |-- date: long (nullable = true)\n",
            " |    |    |    |    |    |-- height: long (nullable = true)\n",
            " |    |    |    |    |    |-- id: long (nullable = true)\n",
            " |    |    |    |    |    |-- owner_id: long (nullable = true)\n",
            " |    |    |    |    |    |-- photo_1280: string (nullable = true)\n",
            " |    |    |    |    |    |-- photo_130: string (nullable = true)\n",
            " |    |    |    |    |    |-- photo_2560: string (nullable = true)\n",
            " |    |    |    |    |    |-- photo_604: string (nullable = true)\n",
            " |    |    |    |    |    |-- photo_75: string (nullable = true)\n",
            " |    |    |    |    |    |-- photo_807: string (nullable = true)\n",
            " |    |    |    |    |    |-- text: string (nullable = true)\n",
            " |    |    |    |    |    |-- user_id: long (nullable = true)\n",
            " |    |    |    |    |    |-- width: long (nullable = true)\n",
            " |    |    |    |    |-- title: string (nullable = true)\n",
            " |    |    |    |    |-- updated: long (nullable = true)\n",
            " |    |    |    |-- audio: struct (nullable = true)\n",
            " |    |    |    |    |-- album_id: long (nullable = true)\n",
            " |    |    |    |    |-- artist: string (nullable = true)\n",
            " |    |    |    |    |-- content_restricted: long (nullable = true)\n",
            " |    |    |    |    |-- date: long (nullable = true)\n",
            " |    |    |    |    |-- duration: long (nullable = true)\n",
            " |    |    |    |    |-- genre_id: long (nullable = true)\n",
            " |    |    |    |    |-- id: long (nullable = true)\n",
            " |    |    |    |    |-- lyrics_id: long (nullable = true)\n",
            " |    |    |    |    |-- no_search: long (nullable = true)\n",
            " |    |    |    |    |-- owner_id: long (nullable = true)\n",
            " |    |    |    |    |-- title: string (nullable = true)\n",
            " |    |    |    |    |-- url: string (nullable = true)\n",
            " |    |    |    |-- doc: struct (nullable = true)\n",
            " |    |    |    |    |-- access_key: string (nullable = true)\n",
            " |    |    |    |    |-- date: long (nullable = true)\n",
            " |    |    |    |    |-- ext: string (nullable = true)\n",
            " |    |    |    |    |-- id: long (nullable = true)\n",
            " |    |    |    |    |-- owner_id: long (nullable = true)\n",
            " |    |    |    |    |-- preview: struct (nullable = true)\n",
            " |    |    |    |    |    |-- photo: struct (nullable = true)\n",
            " |    |    |    |    |    |    |-- sizes: array (nullable = true)\n",
            " |    |    |    |    |    |    |    |-- element: struct (containsNull = true)\n",
            " |    |    |    |    |    |    |    |    |-- height: long (nullable = true)\n",
            " |    |    |    |    |    |    |    |    |-- src: string (nullable = true)\n",
            " |    |    |    |    |    |    |    |    |-- type: string (nullable = true)\n",
            " |    |    |    |    |    |    |    |    |-- width: long (nullable = true)\n",
            " |    |    |    |    |    |-- video: struct (nullable = true)\n",
            " |    |    |    |    |    |    |-- file_size: long (nullable = true)\n",
            " |    |    |    |    |    |    |-- height: long (nullable = true)\n",
            " |    |    |    |    |    |    |-- src: string (nullable = true)\n",
            " |    |    |    |    |    |    |-- width: long (nullable = true)\n",
            " |    |    |    |    |-- size: long (nullable = true)\n",
            " |    |    |    |    |-- title: string (nullable = true)\n",
            " |    |    |    |    |-- type: long (nullable = true)\n",
            " |    |    |    |    |-- url: string (nullable = true)\n",
            " |    |    |    |-- link: struct (nullable = true)\n",
            " |    |    |    |    |-- button: struct (nullable = true)\n",
            " |    |    |    |    |    |-- title: string (nullable = true)\n",
            " |    |    |    |    |    |-- url: string (nullable = true)\n",
            " |    |    |    |    |-- button_action: string (nullable = true)\n",
            " |    |    |    |    |-- button_text: string (nullable = true)\n",
            " |    |    |    |    |-- caption: string (nullable = true)\n",
            " |    |    |    |    |-- description: string (nullable = true)\n",
            " |    |    |    |    |-- is_external: long (nullable = true)\n",
            " |    |    |    |    |-- photo: struct (nullable = true)\n",
            " |    |    |    |    |    |-- album_id: long (nullable = true)\n",
            " |    |    |    |    |    |-- date: long (nullable = true)\n",
            " |    |    |    |    |    |-- height: long (nullable = true)\n",
            " |    |    |    |    |    |-- id: long (nullable = true)\n",
            " |    |    |    |    |    |-- lat: double (nullable = true)\n",
            " |    |    |    |    |    |-- long: double (nullable = true)\n",
            " |    |    |    |    |    |-- owner_id: long (nullable = true)\n",
            " |    |    |    |    |    |-- photo_1280: string (nullable = true)\n",
            " |    |    |    |    |    |-- photo_130: string (nullable = true)\n",
            " |    |    |    |    |    |-- photo_2560: string (nullable = true)\n",
            " |    |    |    |    |    |-- photo_604: string (nullable = true)\n",
            " |    |    |    |    |    |-- photo_75: string (nullable = true)\n",
            " |    |    |    |    |    |-- photo_807: string (nullable = true)\n",
            " |    |    |    |    |    |-- text: string (nullable = true)\n",
            " |    |    |    |    |    |-- user_id: long (nullable = true)\n",
            " |    |    |    |    |    |-- width: long (nullable = true)\n",
            " |    |    |    |    |-- preview_page: string (nullable = true)\n",
            " |    |    |    |    |-- preview_url: string (nullable = true)\n",
            " |    |    |    |    |-- target: string (nullable = true)\n",
            " |    |    |    |    |-- title: string (nullable = true)\n",
            " |    |    |    |    |-- url: string (nullable = true)\n",
            " |    |    |    |-- note: struct (nullable = true)\n",
            " |    |    |    |    |-- comments: long (nullable = true)\n",
            " |    |    |    |    |-- date: long (nullable = true)\n",
            " |    |    |    |    |-- id: long (nullable = true)\n",
            " |    |    |    |    |-- owner_id: long (nullable = true)\n",
            " |    |    |    |    |-- read_comments: long (nullable = true)\n",
            " |    |    |    |    |-- title: string (nullable = true)\n",
            " |    |    |    |    |-- view_url: string (nullable = true)\n",
            " |    |    |    |-- page: struct (nullable = true)\n",
            " |    |    |    |    |-- created: long (nullable = true)\n",
            " |    |    |    |    |-- creator_id: long (nullable = true)\n",
            " |    |    |    |    |-- current_user_can_edit: long (nullable = true)\n",
            " |    |    |    |    |-- current_user_can_edit_access: long (nullable = true)\n",
            " |    |    |    |    |-- edited: long (nullable = true)\n",
            " |    |    |    |    |-- editor_id: long (nullable = true)\n",
            " |    |    |    |    |-- group_id: long (nullable = true)\n",
            " |    |    |    |    |-- id: long (nullable = true)\n",
            " |    |    |    |    |-- title: string (nullable = true)\n",
            " |    |    |    |    |-- view_url: string (nullable = true)\n",
            " |    |    |    |    |-- views: long (nullable = true)\n",
            " |    |    |    |    |-- who_can_edit: long (nullable = true)\n",
            " |    |    |    |    |-- who_can_view: long (nullable = true)\n",
            " |    |    |    |-- photo: struct (nullable = true)\n",
            " |    |    |    |    |-- access_key: string (nullable = true)\n",
            " |    |    |    |    |-- album_id: long (nullable = true)\n",
            " |    |    |    |    |-- date: long (nullable = true)\n",
            " |    |    |    |    |-- height: long (nullable = true)\n",
            " |    |    |    |    |-- id: long (nullable = true)\n",
            " |    |    |    |    |-- lat: double (nullable = true)\n",
            " |    |    |    |    |-- long: double (nullable = true)\n",
            " |    |    |    |    |-- owner_id: long (nullable = true)\n",
            " |    |    |    |    |-- photo_1280: string (nullable = true)\n",
            " |    |    |    |    |-- photo_130: string (nullable = true)\n",
            " |    |    |    |    |-- photo_2560: string (nullable = true)\n",
            " |    |    |    |    |-- photo_604: string (nullable = true)\n",
            " |    |    |    |    |-- photo_75: string (nullable = true)\n",
            " |    |    |    |    |-- photo_807: string (nullable = true)\n",
            " |    |    |    |    |-- post_id: long (nullable = true)\n",
            " |    |    |    |    |-- text: string (nullable = true)\n",
            " |    |    |    |    |-- user_id: long (nullable = true)\n",
            " |    |    |    |    |-- width: long (nullable = true)\n",
            " |    |    |    |-- photos_list: array (nullable = true)\n",
            " |    |    |    |    |-- element: string (containsNull = true)\n",
            " |    |    |    |-- poll: struct (nullable = true)\n",
            " |    |    |    |    |-- anonymous: long (nullable = true)\n",
            " |    |    |    |    |-- answer_id: long (nullable = true)\n",
            " |    |    |    |    |-- answers: array (nullable = true)\n",
            " |    |    |    |    |    |-- element: struct (containsNull = true)\n",
            " |    |    |    |    |    |    |-- id: long (nullable = true)\n",
            " |    |    |    |    |    |    |-- rate: double (nullable = true)\n",
            " |    |    |    |    |    |    |-- text: string (nullable = true)\n",
            " |    |    |    |    |    |    |-- votes: long (nullable = true)\n",
            " |    |    |    |    |-- created: long (nullable = true)\n",
            " |    |    |    |    |-- id: long (nullable = true)\n",
            " |    |    |    |    |-- owner_id: long (nullable = true)\n",
            " |    |    |    |    |-- question: string (nullable = true)\n",
            " |    |    |    |    |-- votes: long (nullable = true)\n",
            " |    |    |    |-- type: string (nullable = true)\n",
            " |    |    |    |-- video: struct (nullable = true)\n",
            " |    |    |    |    |-- access_key: string (nullable = true)\n",
            " |    |    |    |    |-- album_id: long (nullable = true)\n",
            " |    |    |    |    |-- can_add: long (nullable = true)\n",
            " |    |    |    |    |-- can_edit: long (nullable = true)\n",
            " |    |    |    |    |-- comments: long (nullable = true)\n",
            " |    |    |    |    |-- content_restricted: long (nullable = true)\n",
            " |    |    |    |    |-- date: long (nullable = true)\n",
            " |    |    |    |    |-- description: string (nullable = true)\n",
            " |    |    |    |    |-- duration: long (nullable = true)\n",
            " |    |    |    |    |-- first_frame_130: string (nullable = true)\n",
            " |    |    |    |    |-- first_frame_160: string (nullable = true)\n",
            " |    |    |    |    |-- first_frame_320: string (nullable = true)\n",
            " |    |    |    |    |-- first_frame_800: string (nullable = true)\n",
            " |    |    |    |    |-- height: long (nullable = true)\n",
            " |    |    |    |    |-- id: long (nullable = true)\n",
            " |    |    |    |    |-- is_private: long (nullable = true)\n",
            " |    |    |    |    |-- live: long (nullable = true)\n",
            " |    |    |    |    |-- owner_id: long (nullable = true)\n",
            " |    |    |    |    |-- photo_130: string (nullable = true)\n",
            " |    |    |    |    |-- photo_320: string (nullable = true)\n",
            " |    |    |    |    |-- photo_640: string (nullable = true)\n",
            " |    |    |    |    |-- photo_800: string (nullable = true)\n",
            " |    |    |    |    |-- platform: string (nullable = true)\n",
            " |    |    |    |    |-- processing: long (nullable = true)\n",
            " |    |    |    |    |-- repeat: long (nullable = true)\n",
            " |    |    |    |    |-- spectators: long (nullable = true)\n",
            " |    |    |    |    |-- title: string (nullable = true)\n",
            " |    |    |    |    |-- upcoming: long (nullable = true)\n",
            " |    |    |    |    |-- user_id: long (nullable = true)\n",
            " |    |    |    |    |-- views: long (nullable = true)\n",
            " |    |    |    |    |-- width: long (nullable = true)\n",
            " |    |-- author: struct (nullable = true)\n",
            " |    |    |-- author_url: string (nullable = true)\n",
            " |    |    |-- id: long (nullable = true)\n",
            " |    |    |-- platform: long (nullable = true)\n",
            " |    |    |-- shared_post_author_id: long (nullable = true)\n",
            " |    |    |-- shared_post_author_url: string (nullable = true)\n",
            " |    |-- creation_time: long (nullable = true)\n",
            " |    |-- event_id: struct (nullable = true)\n",
            " |    |    |-- comment_id: long (nullable = true)\n",
            " |    |    |-- post_id: long (nullable = true)\n",
            " |    |    |-- post_owner_id: long (nullable = true)\n",
            " |    |    |-- shared_post_id: long (nullable = true)\n",
            " |    |    |-- shared_post_owner_id: long (nullable = true)\n",
            " |    |-- event_shared_url: string (nullable = true)\n",
            " |    |-- event_type: string (nullable = true)\n",
            " |    |-- event_url: string (nullable = true)\n",
            " |    |-- geo: struct (nullable = true)\n",
            " |    |    |-- coordinates: string (nullable = true)\n",
            " |    |    |-- place: struct (nullable = true)\n",
            " |    |    |    |-- address: string (nullable = true)\n",
            " |    |    |    |-- checkins: long (nullable = true)\n",
            " |    |    |    |-- city: string (nullable = true)\n",
            " |    |    |    |-- country: string (nullable = true)\n",
            " |    |    |    |-- created: long (nullable = true)\n",
            " |    |    |    |-- group_id: long (nullable = true)\n",
            " |    |    |    |-- group_photo: string (nullable = true)\n",
            " |    |    |    |-- icon: string (nullable = true)\n",
            " |    |    |    |-- id: long (nullable = true)\n",
            " |    |    |    |-- latitude: double (nullable = true)\n",
            " |    |    |    |-- longitude: double (nullable = true)\n",
            " |    |    |    |-- title: string (nullable = true)\n",
            " |    |    |    |-- type: long (nullable = true)\n",
            " |    |    |    |-- updated: long (nullable = true)\n",
            " |    |    |-- showmap: long (nullable = true)\n",
            " |    |    |-- type: string (nullable = true)\n",
            " |    |-- shared_post_creation_time: long (nullable = true)\n",
            " |    |-- shared_post_text: string (nullable = true)\n",
            " |    |-- signer_id: long (nullable = true)\n",
            " |    |-- tags: array (nullable = true)\n",
            " |    |    |-- element: string (containsNull = true)\n",
            " |    |-- text: string (nullable = true)\n",
            "\n"
          ]
        }
      ],
      "source": [
        "#examine the schema\n",
        "data.printSchema()"
      ]
    },
    {
      "cell_type": "markdown",
      "metadata": {
        "id": "dDpBqJ28prxZ"
      },
      "source": [
        "## Questions"
      ]
    },
    {
      "cell_type": "markdown",
      "metadata": {
        "id": "Pb4LtVKQprxa"
      },
      "source": [
        "The schema indicates each attribute with nullable=true which is not very informative since we can not know whether a field has missing values.\n",
        "The following instructions count the number of rows w/o missing values for some specific fields of interest."
      ]
    },
    {
      "cell_type": "code",
      "execution_count": null,
      "metadata": {
        "id": "m98KJWncprxa"
      },
      "outputs": [],
      "source": [
        "att_list = [\"event\",\n",
        "                 \"event.event_id\",\n",
        "                 \"event.event_id.post_id\",\n",
        "                 \"event.event_id.post_owner_id\",\n",
        "                 \"event.event_id.comment_id\",\n",
        "                 \"event.event_id.shared_post_id\",\n",
        "                 \"event.author\",\n",
        "                 \"event.attachments\",\n",
        "                 \"event.geo\",\n",
        "                 \"event.tags\",\n",
        "                 \"event.creation_time\"]"
      ]
    },
    {
      "cell_type": "code",
      "execution_count": null,
      "metadata": {
        "colab": {
          "base_uri": "https://localhost:8080/"
        },
        "id": "ilDCsjR-prxb",
        "outputId": "3c40d6a7-a8d3-4cb6-bb57-3b556520dc51"
      },
      "outputs": [
        {
          "output_type": "stream",
          "name": "stdout",
          "text": [
            "count of event=30683\n",
            "count of event.event_id=30683\n",
            "count of event.event_id.post_id=30683\n",
            "count of event.event_id.post_owner_id=30683\n",
            "count of event.event_id.comment_id=16518\n",
            "count of event.event_id.shared_post_id=638\n",
            "count of event.author=30683\n",
            "count of event.attachments=15944\n",
            "count of event.geo=22\n",
            "count of event.tags=30683\n",
            "count of event.creation_time=30683\n"
          ]
        }
      ],
      "source": [
        "for att in att_list:\n",
        "    print(\"count of %s=%s\"%(att, data.where(att+ \" is not null\").count()))"
      ]
    },
    {
      "cell_type": "markdown",
      "metadata": {
        "id": "ooLKXBpiprxb"
      },
      "source": [
        "What do you observe? Which attributes have missing values?\n",
        "\n",
        "Feel free to examine the content of these attributes (count the number of distinct values, examine a sample of distinct values, etc)"
      ]
    },
    {
      "cell_type": "markdown",
      "metadata": {
        "id": "GkQg8U_sprxb"
      },
      "source": [
        "The official documentation reports on some assumptions about the presence/absence of values.\n",
        "For example, the field `event.event_id.comment_id` is present only when `event.event_type='comment'` and `event.event_id.shared_post_id` is present only when `event.event_type='share'`.\n",
        "\n",
        "Write two queries to verify these assumptions."
      ]
    },
    {
      "cell_type": "markdown",
      "metadata": {
        "id": "kJmWtnOXprxc"
      },
      "source": [
        "#### Check that `event.event_id.comment_id` is present only when `event.event_type='comment'`"
      ]
    },
    {
      "cell_type": "code",
      "execution_count": null,
      "metadata": {
        "colab": {
          "base_uri": "https://localhost:8080/"
        },
        "id": "mFsqiIpyprxc",
        "outputId": "b21fa972-751a-46cc-ab9b-0367cf490d47"
      },
      "outputs": [
        {
          "data": {
            "text/plain": [
              "True"
            ]
          },
          "execution_count": 13,
          "metadata": {},
          "output_type": "execute_result"
        }
      ],
      "source": [
        "data.#complete\n"
      ]
    },
    {
      "cell_type": "markdown",
      "metadata": {
        "id": "XV4xcggMprxc"
      },
      "source": [
        "#### Check that `event.event_id.shared_post_id` is present only when `event.event_type='share'`"
      ]
    },
    {
      "cell_type": "code",
      "execution_count": null,
      "metadata": {
        "colab": {
          "base_uri": "https://localhost:8080/"
        },
        "id": "jE14Js3Qprxc",
        "outputId": "a5ae4c83-3914-4e1b-d0d1-3b08f8889102"
      },
      "outputs": [
        {
          "data": {
            "text/plain": [
              "True"
            ]
          },
          "execution_count": 14,
          "metadata": {},
          "output_type": "execute_result"
        }
      ],
      "source": [
        "data.#complete"
      ]
    },
    {
      "cell_type": "markdown",
      "metadata": {
        "id": "81hc99X5prxd"
      },
      "source": [
        "#### How many distinct post ids are there?"
      ]
    },
    {
      "cell_type": "code",
      "execution_count": null,
      "metadata": {
        "id": "E1NOBRuRprxe"
      },
      "outputs": [],
      "source": [
        "from pyspark.sql.functions import count, countDistinct"
      ]
    },
    {
      "cell_type": "code",
      "execution_count": null,
      "metadata": {
        "colab": {
          "base_uri": "https://localhost:8080/"
        },
        "id": "JLf2MFHjprxf",
        "outputId": "d60d752a-d9e7-4e56-83d8-18fda11f9304"
      },
      "outputs": [
        {
          "name": "stdout",
          "output_type": "stream",
          "text": [
            "+-----------------+\n",
            "|nb_distinct_posts|\n",
            "+-----------------+\n",
            "|            21683|\n",
            "+-----------------+\n",
            "\n"
          ]
        }
      ],
      "source": [
        "nb_posts = data\\\n",
        ".#complete\n",
        "nb_posts.show()"
      ]
    },
    {
      "cell_type": "markdown",
      "metadata": {
        "id": "33x5r-bXprxg"
      },
      "source": [
        "#### How many distinct post_ids per event type"
      ]
    },
    {
      "cell_type": "code",
      "execution_count": null,
      "metadata": {
        "colab": {
          "base_uri": "https://localhost:8080/"
        },
        "id": "OLECgaRCprxh",
        "outputId": "78b13884-b517-4b75-f6a8-daee220bc999"
      },
      "outputs": [
        {
          "name": "stdout",
          "output_type": "stream",
          "text": [
            "+----------+-------------+\n",
            "|event_type|count_objects|\n",
            "+----------+-------------+\n",
            "|   comment|        14202|\n",
            "|      post|         8137|\n",
            "|     share|          544|\n",
            "+----------+-------------+\n",
            "\n"
          ]
        }
      ],
      "source": [
        "post_per_type = data\\\n",
        ".#complete\n",
        "post_per_type.show()"
      ]
    },
    {
      "cell_type": "markdown",
      "metadata": {
        "id": "vzhqW9rjprxh"
      },
      "source": [
        "#### Flattening lists of tags"
      ]
    },
    {
      "cell_type": "markdown",
      "metadata": {
        "id": "NYHcmgNBprxi"
      },
      "source": [
        "In `data`, each object is associated with an array of tags accessed from `event.tags` (see the schema). Write an instruction to add a `tag` column containing a single tag obtained by flattening the `tags` array"
      ]
    },
    {
      "cell_type": "code",
      "execution_count": null,
      "metadata": {
        "id": "QG__DEDCprxi"
      },
      "outputs": [],
      "source": [
        "from pyspark.sql.functions import explode"
      ]
    },
    {
      "cell_type": "code",
      "execution_count": null,
      "metadata": {
        "colab": {
          "base_uri": "https://localhost:8080/"
        },
        "id": "cO91aImCprxj",
        "outputId": "66de0190-025a-490d-e696-427a8bc3acc4"
      },
      "outputs": [
        {
          "name": "stdout",
          "output_type": "stream",
          "text": [
            "+--------------------+----+--------------------+---------+\n",
            "|                 _id|code|               event|      tag|\n",
            "+--------------------+----+--------------------+---------+\n",
            "|{5a66276e7f254c35...| 100|{new, null, {http...| grudinin|\n",
            "|{5a66296f7f254c35...| 100|{new, null, {http...|    putin|\n",
            "|{5a68d75a713e4d08...| 100|{new, null, {http...|    putin|\n",
            "|{5a68d75a713e4d08...| 100|{new, null, {http...|yavlinsky|\n",
            "|{5a68f01c713e4d08...| 100|{new, null, {http...|  navalny|\n",
            "|{5a68fe3c713e4d08...| 100|{new, null, {http...|    putin|\n",
            "|{5a690364713e4d08...| 100|{new, null, {http...|    putin|\n",
            "|{5a69a403713e4d08...| 100|{new, [{null, nul...|    putin|\n",
            "|{5a69b263713e4d08...| 100|{new, [{null, nul...|  navalny|\n",
            "|{5a6a03f7713e4d08...| 100|{new, [{null, nul...|    putin|\n",
            "|{5a6af994713e4d08...| 100|{new, [{null, nul...|    putin|\n",
            "|{5a6b13e4713e4d08...| 100|{new, null, {http...|    putin|\n",
            "|{5a6b6900713e4d08...| 100|{new, [{null, nul...|    putin|\n",
            "|{5a6b7918713e4d08...| 100|{new, [{null, nul...|  navalny|\n",
            "|{5a6c7a9e713e4d08...| 100|{new, [{null, nul...| grudinin|\n",
            "|{5a6c844d713e4d08...| 100|{new, null, {http...|  navalny|\n",
            "|{5a6cb873713e4d08...| 100|{new, [{null, nul...| grudinin|\n",
            "|{5a6cdfe0713e4d08...| 100|{new, null, {http...|  navalny|\n",
            "|{5a6d9add713e4d08...| 100|{new, null, {http...|    putin|\n",
            "|{5a6efc6f713e4d08...| 100|{new, null, {http...|    putin|\n",
            "+--------------------+----+--------------------+---------+\n",
            "only showing top 20 rows\n",
            "\n"
          ]
        }
      ],
      "source": [
        "data_with_tags = data.#complete\n",
        "data_with_tags.show()"
      ]
    },
    {
      "cell_type": "markdown",
      "metadata": {
        "id": "vh96FD2bprxk"
      },
      "source": [
        "#### Return the number of distinct post_id per tag. Sort in descending order of count"
      ]
    },
    {
      "cell_type": "code",
      "execution_count": null,
      "metadata": {
        "colab": {
          "base_uri": "https://localhost:8080/"
        },
        "id": "QW1Ua3W6prxl",
        "outputId": "a8b2592a-aca1-4f08-b2e9-d834cd8526c2"
      },
      "outputs": [
        {
          "name": "stdout",
          "output_type": "stream",
          "text": [
            "+-----------+--------+\n",
            "|        tag|nb_posts|\n",
            "+-----------+--------+\n",
            "|      putin|   14859|\n",
            "|   grudinin|    6222|\n",
            "|    navalny|    2616|\n",
            "|    sobchak|    2134|\n",
            "|zhirinovsky|    1231|\n",
            "|      titov|     577|\n",
            "|  yavlinsky|     361|\n",
            "+-----------+--------+\n",
            "\n"
          ]
        }
      ],
      "source": [
        "from pyspark.sql.functions import desc\n",
        "objects_per_tag = data_with_tags.groupBy(\"tag\")\\\n",
        ".#complete\n",
        "\n",
        "objects_per_tag.show()"
      ]
    },
    {
      "cell_type": "markdown",
      "metadata": {
        "id": "nfM1F2E8prxl"
      },
      "source": [
        "#### Return the number of distinct author.id per tag. Sort in descending order of count"
      ]
    },
    {
      "cell_type": "code",
      "execution_count": null,
      "metadata": {
        "colab": {
          "base_uri": "https://localhost:8080/"
        },
        "id": "nGHd7rk1prxm",
        "outputId": "6d7d45e7-925c-4357-8bc0-936713db3b25"
      },
      "outputs": [
        {
          "name": "stdout",
          "output_type": "stream",
          "text": [
            "+-----------+----------+\n",
            "|        tag|nb_authors|\n",
            "+-----------+----------+\n",
            "|      putin|     15673|\n",
            "|   grudinin|      6207|\n",
            "|    navalny|      2580|\n",
            "|    sobchak|      2288|\n",
            "|zhirinovsky|      1214|\n",
            "|      titov|       572|\n",
            "|  yavlinsky|       347|\n",
            "+-----------+----------+\n",
            "\n"
          ]
        }
      ],
      "source": [
        "authors_per_tag = data_with_tags.groupBy(\"tag\")\\\n",
        ".#complete\n",
        "\n",
        "authors_per_tag.show()"
      ]
    },
    {
      "cell_type": "markdown",
      "metadata": {
        "id": "DsEFVAeuprxm"
      },
      "source": [
        "#### Fact-checking using Wikipedia"
      ]
    },
    {
      "cell_type": "markdown",
      "metadata": {
        "id": "_3SSnBlEprxm"
      },
      "source": [
        "Observe that each tag corresponds to a candidate of the RU2018 Elections (Putin, Titov, etc).\n",
        "We would like to check the relationship between the count of tags per author and the number of votes associated to each candidate.\n",
        "We collect, from Wikipedia, the number of votes per candidates and make it available though the dataset `votes` defined as follows."
      ]
    },
    {
      "cell_type": "code",
      "execution_count": null,
      "metadata": {
        "colab": {
          "base_uri": "https://localhost:8080/"
        },
        "id": "LQi20X-Dprxm",
        "outputId": "aadafb1a-1c4e-4b43-e817-6bd76f2945bf"
      },
      "outputs": [
        {
          "name": "stdout",
          "output_type": "stream",
          "text": [
            "+-----------+--------------------+--------+\n",
            "|       name|               party|   votes|\n",
            "+-----------+--------------------+--------+\n",
            "|      putin|         Independent|56430712|\n",
            "|   grudinin|           Communist| 8659206|\n",
            "|zhirinovsky|Liberal Democrati...| 4154985|\n",
            "|    sobchak|    Civic Initiative| 1238031|\n",
            "|  yavlinsky|             Yabloko|  769644|\n",
            "|      titov|     Party of Growth|  556801|\n",
            "+-----------+--------------------+--------+\n",
            "\n"
          ]
        }
      ],
      "source": [
        "from pyspark.sql.types import *\n",
        "\n",
        "schema_votes = StructType([StructField(\"name\", StringType()),\\\n",
        "                     StructField(\"party\", StringType()),\\\n",
        "                     StructField(\"votes\", LongType())])\n",
        "\n",
        "\n",
        "raw_votes = [(\"putin\", \"Independent\", 56430712),\\\n",
        "             (\"grudinin\", \"Communist\",8659206), \\\n",
        "             (\"zhirinovsky\",\"Liberal Democratic Party\",4154985),\\\n",
        "             (\"sobchak\",\"Civic Initiative\",1238031),\\\n",
        "             (\"yavlinsky\",\"Yabloko\",769644), \\\n",
        "             (\"titov\",\"Party of Growth\",556801)\\\n",
        "            ]\n",
        "\n",
        "votes = spark.createDataFrame(raw_votes,schema_votes)\n",
        "votes.show()"
      ]
    },
    {
      "cell_type": "markdown",
      "metadata": {
        "id": "EZQD2DaVprxn"
      },
      "source": [
        "#### Return for each candidate the number of its votes and the number of authors who tagged it. What do you observe?"
      ]
    },
    {
      "cell_type": "code",
      "execution_count": null,
      "metadata": {
        "colab": {
          "base_uri": "https://localhost:8080/"
        },
        "id": "yACkv643prxn",
        "outputId": "e0487313-5f94-471c-b644-dd568ca2c90f"
      },
      "outputs": [
        {
          "name": "stdout",
          "output_type": "stream",
          "text": [
            "+-----------+--------+----------+\n",
            "|       name|   votes|nb_authors|\n",
            "+-----------+--------+----------+\n",
            "|      putin|56430712|     15673|\n",
            "|   grudinin| 8659206|      6207|\n",
            "|    sobchak| 1238031|      2288|\n",
            "|zhirinovsky| 4154985|      1214|\n",
            "|      titov|  556801|       572|\n",
            "|  yavlinsky|  769644|       347|\n",
            "+-----------+--------+----------+\n",
            "\n"
          ]
        }
      ],
      "source": [
        "votes_count = votes.join(authors_per_tag).where(\"tag=name\")\\\n",
        "            .#complete\n",
        "votes_count.show()"
      ]
    },
    {
      "cell_type": "markdown",
      "metadata": {
        "id": "AOW_KUIJprxo"
      },
      "source": [
        "### Window function"
      ]
    },
    {
      "cell_type": "markdown",
      "metadata": {
        "id": "Ybq-IKfQprxo"
      },
      "source": [
        "Read about the windowing functions https://databricks.com/blog/2015/07/15/introducing-window-functions-in-spark-sql.html."
      ]
    },
    {
      "cell_type": "code",
      "execution_count": null,
      "metadata": {
        "id": "uDk75DiJprxo"
      },
      "outputs": [],
      "source": [
        "from pyspark.sql.window import Window\n",
        "from pyspark.sql.functions import rank\n"
      ]
    },
    {
      "cell_type": "markdown",
      "metadata": {
        "id": "Gm9jTAX6prxo"
      },
      "source": [
        "Define a window specification for the `votes` and `nb_authors` columns"
      ]
    },
    {
      "cell_type": "code",
      "execution_count": null,
      "metadata": {
        "id": "lTlVzx3Dprxo"
      },
      "outputs": [],
      "source": [
        "windowSpecVotes = Window.#complete\n",
        "windowSpecCount = Window.#complete\n"
      ]
    },
    {
      "cell_type": "markdown",
      "metadata": {
        "id": "0PcS3Rs_prxp"
      },
      "source": [
        "Using the window specifications, augment `votes_count` with two attributes, `votes_rank` and `nbAuths_ranks`, which rank each candidate  based on the number of votes he received  and the number of authors who tagged a post with his name.\n",
        "\n",
        "Hint. The window spans the entire data and does not use any partitioning."
      ]
    },
    {
      "cell_type": "code",
      "execution_count": null,
      "metadata": {
        "colab": {
          "base_uri": "https://localhost:8080/"
        },
        "id": "_8L6qWl7prxp",
        "outputId": "6a228b4b-df2f-4f44-ff05-d54b841043d6"
      },
      "outputs": [
        {
          "name": "stdout",
          "output_type": "stream",
          "text": [
            "+-----------+--------+----------+----------+---------------+\n",
            "|       name|   votes|nb_authors|votes_rank|nb_authors_rank|\n",
            "+-----------+--------+----------+----------+---------------+\n",
            "|      putin|56430712|     15673|         1|              1|\n",
            "|   grudinin| 8659206|      6207|         2|              2|\n",
            "|    sobchak| 1238031|      2288|         4|              3|\n",
            "|zhirinovsky| 4154985|      1214|         3|              4|\n",
            "|      titov|  556801|       572|         6|              5|\n",
            "|  yavlinsky|  769644|       347|         5|              6|\n",
            "+-----------+--------+----------+----------+---------------+\n",
            "\n"
          ]
        }
      ],
      "source": [
        "compare = votes_count\\\n",
        "        .withColumn(\"votes_rank\", rank().over(windowSpecVotes))\\\n",
        "        .withColumn(\"nb_authors_rank\", rank().over(windowSpecCount))\\\n",
        "\n",
        "compare.show()\n"
      ]
    },
    {
      "cell_type": "markdown",
      "metadata": {
        "id": "Tz4evj6Eprxp"
      },
      "source": [
        "### Multidimensional aggregation"
      ]
    },
    {
      "cell_type": "markdown",
      "metadata": {
        "id": "ROc2mFViprxp"
      },
      "source": [
        "We want to create a table combining  three dimensions: `tag`, `event_type` and `month`. While the first two attributes are already available, the month column must be extracted from the `creation_time` attribute using a built-in function.\n",
        "\n",
        "Create a dataset `dataTagMon` obtained by augmenting `data_with_tags` with an attribute `month` containing the month extracted from the `event.creation_time` attribute.\n",
        "\n",
        "Hint. You will notice that only months 1, 2 and 3 exist in the dataset."
      ]
    },
    {
      "cell_type": "code",
      "execution_count": null,
      "metadata": {
        "id": "46fAgW5Iprxp"
      },
      "outputs": [],
      "source": [
        "from pyspark.sql.functions import from_unixtime\n",
        "from pyspark.sql.functions import month"
      ]
    },
    {
      "cell_type": "code",
      "execution_count": null,
      "metadata": {
        "colab": {
          "base_uri": "https://localhost:8080/"
        },
        "id": "jG3Qc8RWprxq",
        "outputId": "194f6719-c2d7-425c-9da8-e73dda80ad86"
      },
      "outputs": [
        {
          "name": "stdout",
          "output_type": "stream",
          "text": [
            "+-----+\n",
            "|month|\n",
            "+-----+\n",
            "|    1|\n",
            "|    3|\n",
            "|    2|\n",
            "+-----+\n",
            "\n"
          ]
        }
      ],
      "source": [
        "data_tag_mon = data_with_tags\\\n",
        "        .#complete\n",
        "\n",
        "data_tag_mon.select(\"month\").distinct().show()"
      ]
    },
    {
      "cell_type": "markdown",
      "metadata": {
        "id": "R0O0F2UOprxq"
      },
      "source": [
        "#### For each combination of event_type, tag and month, count the nomber of distinct post_ids"
      ]
    },
    {
      "cell_type": "code",
      "execution_count": null,
      "metadata": {
        "colab": {
          "base_uri": "https://localhost:8080/"
        },
        "id": "exoRM_dIprxq",
        "outputId": "ff69e8c3-e5db-409e-e461-dbab4e4e5316"
      },
      "outputs": [
        {
          "name": "stdout",
          "output_type": "stream",
          "text": [
            "+----------+--------+-----+------------------+\n",
            "|event_type|     tag|month|count_dist_postids|\n",
            "+----------+--------+-----+------------------+\n",
            "|   comment|   putin|    2|              4191|\n",
            "|   comment|   putin|    3|              3543|\n",
            "|      post|   putin|    2|              2963|\n",
            "|      post|   putin|    3|              2954|\n",
            "|   comment|grudinin|    2|              2012|\n",
            "|   comment|grudinin|    3|              1484|\n",
            "|      post|grudinin|    2|              1409|\n",
            "|   comment|   putin|    1|              1390|\n",
            "|      post|grudinin|    3|              1206|\n",
            "|      post|   putin|    1|              1104|\n",
            "|   comment| navalny|    2|               780|\n",
            "|   comment| sobchak|    3|               538|\n",
            "|      post| sobchak|    2|               503|\n",
            "|   comment| navalny|    1|               474|\n",
            "|      post| navalny|    2|               461|\n",
            "|   comment|grudinin|    1|               442|\n",
            "|   comment| sobchak|    2|               436|\n",
            "|      post| sobchak|    3|               425|\n",
            "|   comment| navalny|    3|               415|\n",
            "|      post|grudinin|    1|               372|\n",
            "+----------+--------+-----+------------------+\n",
            "only showing top 20 rows\n",
            "\n"
          ]
        }
      ],
      "source": [
        "tag_event_month = data_tag_mon.#complete\n",
        "tag_event_month.orderBy(desc(\"count_dist_postids\")).show()"
      ]
    },
    {
      "cell_type": "markdown",
      "metadata": {
        "id": "AoYXQ5Szprxq"
      },
      "source": [
        "### Pivot table"
      ]
    },
    {
      "cell_type": "markdown",
      "metadata": {
        "id": "ZMFl9INuprxq"
      },
      "source": [
        "#### Using the `tag_event_month` table, create a pivot table by reducing the dimensions to month and event type."
      ]
    },
    {
      "cell_type": "code",
      "execution_count": null,
      "metadata": {
        "colab": {
          "base_uri": "https://localhost:8080/"
        },
        "id": "3jXrn7AZprxq",
        "outputId": "ad206e99-947f-42e0-f126-c89b8bc5994f"
      },
      "outputs": [
        {
          "name": "stdout",
          "output_type": "stream",
          "text": [
            "root\n",
            " |-- month: integer (nullable = true)\n",
            " |-- comment: long (nullable = true)\n",
            " |-- post: long (nullable = true)\n",
            " |-- share: long (nullable = true)\n",
            "\n",
            "+-----+-------+----+-----+\n",
            "|month|comment|post|share|\n",
            "+-----+-------+----+-----+\n",
            "|    1|   2564|1986|  100|\n",
            "|    3|   6424|5328|  207|\n",
            "|    2|   7873|5863|  372|\n",
            "+-----+-------+----+-----+\n",
            "\n"
          ]
        }
      ],
      "source": [
        "month_event_type = tag_event_month.#complete\n",
        "month_event_type.printSchema()\n",
        "month_event_type.show()"
      ]
    },
    {
      "cell_type": "markdown",
      "metadata": {
        "id": "yTF9tW-Uprxr"
      },
      "source": [
        "###  Tag co-occurrence matrix"
      ]
    },
    {
      "cell_type": "markdown",
      "metadata": {
        "id": "Lpre-U_5prxr"
      },
      "source": [
        "#### create a dataframe indicating for each pair of distinct tags the author that uses both of them."
      ]
    },
    {
      "cell_type": "code",
      "execution_count": null,
      "metadata": {
        "colab": {
          "base_uri": "https://localhost:8080/"
        },
        "id": "lZOVEUK8prxr",
        "outputId": "053fa17c-67b5-446f-c5fb-6fb3183299ba"
      },
      "outputs": [
        {
          "name": "stdout",
          "output_type": "stream",
          "text": [
            "+---------+-----------+-----------+\n",
            "| authorID|   otherTag|        tag|\n",
            "+---------+-----------+-----------+\n",
            "|  2000511|      putin|  yavlinsky|\n",
            "|  2000511|  yavlinsky|      putin|\n",
            "|121013525|      putin|   grudinin|\n",
            "|121013525|      putin|    navalny|\n",
            "|121013525|      putin|   grudinin|\n",
            "|121013525|      putin|   grudinin|\n",
            "|121013525|      putin|   grudinin|\n",
            "|121013525|      putin|   grudinin|\n",
            "| 67260949|      putin|    navalny|\n",
            "|469347470|   grudinin|      putin|\n",
            "|468277944|   grudinin|zhirinovsky|\n",
            "| 54818744|   grudinin|    navalny|\n",
            "| 54818744|   grudinin|zhirinovsky|\n",
            "| 54818744|zhirinovsky|    navalny|\n",
            "| 54818744|zhirinovsky|   grudinin|\n",
            "| 54818744|zhirinovsky|   grudinin|\n",
            "|329909622|   grudinin|      putin|\n",
            "|329909622|   grudinin|    navalny|\n",
            "|329909622|    navalny|      putin|\n",
            "|329909622|    navalny|   grudinin|\n",
            "+---------+-----------+-----------+\n",
            "only showing top 20 rows\n",
            "\n"
          ]
        }
      ],
      "source": [
        "auth_tag = data_with_tags.#complete\n",
        "\n",
        "tag_co_occur = #complete\n",
        "\n",
        "\n",
        "tag_co_occur.show()"
      ]
    },
    {
      "cell_type": "markdown",
      "metadata": {
        "id": "N3qnJ3nhprxr"
      },
      "source": [
        "#### Build the tag co-occurence matrix indicating for each pair of tags the number of authors that use them"
      ]
    },
    {
      "cell_type": "code",
      "execution_count": null,
      "metadata": {
        "colab": {
          "base_uri": "https://localhost:8080/"
        },
        "id": "JaOGNLjuprxr",
        "outputId": "86f5c2ac-e853-4e12-eb99-a2335462b831"
      },
      "outputs": [
        {
          "name": "stdout",
          "output_type": "stream",
          "text": [
            "+-----------+--------+-------+-----+-------+-----+---------+-----------+\n",
            "|        tag|grudinin|navalny|putin|sobchak|titov|yavlinsky|zhirinovsky|\n",
            "+-----------+--------+-------+-----+-------+-----+---------+-----------+\n",
            "|  yavlinsky|     210|     60|  355|    199|   94|     null|        145|\n",
            "|   grudinin|    null|   1113| 7267|    722|  140|      210|        714|\n",
            "|      titov|     140|     21|  246|    111| null|       94|         90|\n",
            "|    navalny|    1113|   null| 1806|    300|   21|       60|         90|\n",
            "|    sobchak|     722|    300| 1299|   null|  111|      199|        439|\n",
            "|zhirinovsky|     714|     90|  901|    439|   90|      145|       null|\n",
            "|      putin|    7267|   1806| null|   1299|  246|      355|        901|\n",
            "+-----------+--------+-------+-----+-------+-----+---------+-----------+\n",
            "\n"
          ]
        }
      ],
      "source": [
        "co_occur_mat = tag_co_occur.#complete\n",
        "\n",
        "co_occur_mat.show()"
      ]
    },
    {
      "cell_type": "markdown",
      "metadata": {
        "id": "E5R5AHi-prxt"
      },
      "source": [
        "## END"
      ]
    }
  ],
  "metadata": {
    "application/vnd.databricks.v1+notebook": {
      "dashboards": [],
      "language": "python",
      "notebookMetadata": {
        "pythonIndentUnit": 2
      },
      "notebookName": "SparkDataframe-JSON_solutions",
      "notebookOrigID": 620345572627505,
      "widgets": {}
    },
    "colab": {
      "provenance": [],
      "toc_visible": true
    },
    "kernelspec": {
      "display_name": "Python 3",
      "name": "python3"
    },
    "language_info": {
      "name": "python"
    }
  },
  "nbformat": 4,
  "nbformat_minor": 0
}